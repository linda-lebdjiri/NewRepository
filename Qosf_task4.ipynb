{
 "cells": [
  {
   "cell_type": "code",
   "execution_count": 150,
   "id": "511a3249",
   "metadata": {},
   "outputs": [],
   "source": [
    "from qiskit import *\n",
    "from qiskit.circuit import *\n",
    "from qiskit.circuit.library import *\n",
    "import random"
   ]
  },
  {
   "cell_type": "code",
   "execution_count": 151,
   "id": "ee23569c",
   "metadata": {},
   "outputs": [],
   "source": [
    "def random_quantum_(num_qubits,depth, base_gates):\n",
    "    \n",
    "    Qcircuit = QuantumCircuit(num_qubits)\n",
    "    # If we have only 1 qubit circuit \n",
    "    if num_qubits==1:\n",
    "        length_=0\n",
    "        while(length_<depth):\n",
    "            random_gate = lambda : random.choice(base_gates[\"one_Qubit\"])\n",
    "            Qcircuit.append(random_gate(), [0])\n",
    "            length_=length_+1\n",
    "            \n",
    "    # If we have more then 1 qubit circuit          \n",
    "    else:\n",
    "    # Generate random gates for each depth\n",
    "        length_=0\n",
    "        while(length_<depth):\n",
    "            for j in range(num_qubits):\n",
    "                # for one-qubit gate\n",
    "                prob_num = random.uniform(0, 1)\n",
    "                if prob_num < 0.5:\n",
    "                    random_gate = lambda :random.choice(base_gates[\"one_Qubit\"])\n",
    "                    Qcircuit.append(random_gate(), [j])\n",
    "\n",
    "                # for two-qubit gate\n",
    "                else:\n",
    "                    qubits_list = list(range(num_qubits))\n",
    "                    one_qubit, two_qubit = random.sample(qubits_list, k=2)\n",
    "                    random_gate = lambda : random.choice(base_gates[\"two_Qubit\"])\n",
    "                    Qcircuit.append(random_gate(), [one_qubit, two_qubit])\n",
    "                    length_=length_+1\n",
    "\n",
    "    return Qcircuit"
   ]
  },
  {
   "cell_type": "code",
   "execution_count": 152,
   "id": "79b95c33",
   "metadata": {},
   "outputs": [],
   "source": [
    "# Define the number of qubits\n",
    "qubit_count = 7\n",
    "\n",
    "#Define the number of depth\n",
    "depth = 3\n",
    "\n",
    "#Define base gates\n",
    "x=XGate()\n",
    "y=YGate()\n",
    "z=ZGate()\n",
    "h=HGate()\n",
    "c=CXGate()\n",
    "\n",
    "base_gates = {\n",
    "              \"one_Qubit\": [x, y, z, h],\n",
    "    \n",
    "              \"two_Qubit\": [c]\n",
    "             }"
   ]
  },
  {
   "cell_type": "code",
   "execution_count": 153,
   "id": "480ba6b6",
   "metadata": {},
   "outputs": [
    {
     "data": {
      "text/html": [
       "<pre style=\"word-wrap: normal;white-space: pre;background: #fff0;line-height: 1.1;font-family: &quot;Courier New&quot;,Courier,monospace\">     ┌───┐               \n",
       "q_0: ┤ Y ├────────────■──\n",
       "     └───┘            │  \n",
       "q_1: ─────────────────┼──\n",
       "          ┌───┐       │  \n",
       "q_2: ─────┤ X ├───────┼──\n",
       "          └─┬─┘┌───┐  │  \n",
       "q_3: ──■────┼──┤ Y ├──┼──\n",
       "     ┌─┴─┐  │  ├───┤  │  \n",
       "q_4: ┤ X ├──■──┤ Z ├──┼──\n",
       "     ├───┤     └───┘┌─┴─┐\n",
       "q_5: ┤ Y ├──────────┤ X ├\n",
       "     └───┘          └───┘\n",
       "q_6: ────────────────────\n",
       "                         </pre>"
      ],
      "text/plain": [
       "     ┌───┐               \n",
       "q_0: ┤ Y ├────────────■──\n",
       "     └───┘            │  \n",
       "q_1: ─────────────────┼──\n",
       "          ┌───┐       │  \n",
       "q_2: ─────┤ X ├───────┼──\n",
       "          └─┬─┘┌───┐  │  \n",
       "q_3: ──■────┼──┤ Y ├──┼──\n",
       "     ┌─┴─┐  │  ├───┤  │  \n",
       "q_4: ┤ X ├──■──┤ Z ├──┼──\n",
       "     ├───┤     └───┘┌─┴─┐\n",
       "q_5: ┤ Y ├──────────┤ X ├\n",
       "     └───┘          └───┘\n",
       "q_6: ────────────────────\n",
       "                         "
      ]
     },
     "execution_count": 153,
     "metadata": {},
     "output_type": "execute_result"
    }
   ],
   "source": [
    "QQcircuit = random_quantum_(qubit_count, depth, base_gates)\n",
    "\n",
    "#generating each time random circuit \n",
    "QQcircuit.draw()"
   ]
  }
 ],
 "metadata": {
  "kernelspec": {
   "display_name": "Python 3 (ipykernel)",
   "language": "python",
   "name": "python3"
  },
  "language_info": {
   "codemirror_mode": {
    "name": "ipython",
    "version": 3
   },
   "file_extension": ".py",
   "mimetype": "text/x-python",
   "name": "python",
   "nbconvert_exporter": "python",
   "pygments_lexer": "ipython3",
   "version": "3.10.0"
  }
 },
 "nbformat": 4,
 "nbformat_minor": 5
}
